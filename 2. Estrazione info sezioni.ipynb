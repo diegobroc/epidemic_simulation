{
 "cells": [
  {
   "cell_type": "code",
   "execution_count": 1,
   "metadata": {},
   "outputs": [],
   "source": [
    "import json\n",
    "from shapely.geometry import Point\n",
    "from shapely.geometry.polygon import Polygon\n",
    "from datetime import datetime\n",
    "import time\n",
    "import random"
   ]
  },
  {
   "cell_type": "code",
   "execution_count": 2,
   "metadata": {},
   "outputs": [],
   "source": [
    "#Importo coordinate delle sezioni\n",
    "with open('/Volumes/HDD/Università/Tirocinio/Dati censo/sezioni_censimento_2011.geojson') as file:\n",
    "    gj_sezioni = json.load(file)\n",
    "features=gj_sezioni['features']"
   ]
  },
  {
   "cell_type": "code",
   "execution_count": 3,
   "metadata": {},
   "outputs": [],
   "source": [
    "#Importo indicatori di popolazione\n",
    "with open('/Volumes/HDD/Università/Tirocinio/Dati censo/ds385_popolazione_indicatori_popolazione_famiglie_2011_breve-1.json') as json_file:\n",
    "    info_sezioni = json.load(json_file)"
   ]
  },
  {
   "cell_type": "code",
   "execution_count": 11,
   "metadata": {},
   "outputs": [],
   "source": [
    "#Estraggo numero di abitanti per censo\n",
    "sezioni=[]\n",
    "for f in features:\n",
    "    s={}\n",
    "    s['sezione']=f['properties']['SEZ']\n",
    "    s['abitanti']=int(f['properties']['POP_2010'])\n",
    "    s['tipo_sezione']=f['properties']['TIPO_LOC']\n",
    "    try:\n",
    "        info_s=list(filter(lambda info_s: info_s['1) Numero sezione…'] == str(s['sezione']), info_sezioni))[0]\n",
    "        s['num_medio_residenti_edificio']=float(info_s['2) Num medio di residenti per edificio ad uso residenziale…'].replace(',','.'))\n",
    "        s['num_bambini_prescolare_0-4']=round(s['abitanti']*float(info_s['9) Percent di bambini in età prescolare…'].replace(',','.'))/100,0)\n",
    "        s['num_anziani_over65']=round(s['abitanti']*float(info_s['10) Percent di anziani over 85…'].replace(',','.'))/100,0)\n",
    "        eta_attiva=s['abitanti']-s['num_bambini_prescolare_0-4']-s['num_anziani_over65']\n",
    "        s['num_giovani_5-14']=round((eta_attiva*float(info_s['26) Giovani (0-14) ogni 100 in età attiva (15-64anni) (In…'].replace(',','.'))/100)-s['num_bambini_prescolare_0-4'],0)\n",
    "        s['num_eta_attiva_15-64']=eta_attiva-s['num_giovani_5-14']\n",
    "    except:\n",
    "        continue\n",
    "    \n",
    "    sezioni.append(s)\n",
    "\n",
    "#Salvo\n",
    "with open('./json_abitanti_sezioni.json', 'w') as fp:\n",
    "    json.dump(sezioni, fp)"
   ]
  },
  {
   "cell_type": "code",
   "execution_count": null,
   "metadata": {},
   "outputs": [],
   "source": []
  }
 ],
 "metadata": {
  "kernelspec": {
   "display_name": "Python 3",
   "language": "python",
   "name": "python3"
  },
  "language_info": {
   "codemirror_mode": {
    "name": "ipython",
    "version": 3
   },
   "file_extension": ".py",
   "mimetype": "text/x-python",
   "name": "python",
   "nbconvert_exporter": "python",
   "pygments_lexer": "ipython3",
   "version": "3.7.5"
  }
 },
 "nbformat": 4,
 "nbformat_minor": 4
}
