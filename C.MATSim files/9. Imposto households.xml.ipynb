{
 "cells": [
  {
   "cell_type": "code",
   "execution_count": 24,
   "metadata": {},
   "outputs": [],
   "source": [
    "import json\n",
    "import xml.etree.ElementTree as ET\n",
    "from datetime import datetime\n",
    "import time"
   ]
  },
  {
   "cell_type": "code",
   "execution_count": 18,
   "metadata": {},
   "outputs": [],
   "source": [
    "#Importo agenti\n",
    "with open('./json_agenti_fam.json') as json_file:\n",
    "    attivi = json.load(json_file)\n",
    "with open('./json_agenti_non_attivi_fam.json') as json_file:\n",
    "    non_attivi = json.load(json_file)"
   ]
  },
  {
   "cell_type": "code",
   "execution_count": 20,
   "metadata": {},
   "outputs": [
    {
     "name": "stdout",
     "output_type": "stream",
     "text": [
      "min e max attivi:0 - 105258\n",
      "min e max non attivi:1 - 160264\n"
     ]
    }
   ],
   "source": [
    "#Individuo id max e min per le due tipologie\n",
    "id_att=[]\n",
    "id_nonatt=[]\n",
    "\n",
    "for a in attivi:\n",
    "    id_att.append(a['id_fam'])\n",
    "min_att=min(id_att)\n",
    "max_att=max(id_att)\n",
    "print('Min e max attivi:'+str(min_att)+' - '+str(max_att))\n",
    "\n",
    "for a in non_attivi:\n",
    "    id_nonatt.append(a['id_fam'])\n",
    "min_nonatt=min(id_nonatt)\n",
    "max_nonatt=max(id_nonatt)\n",
    "print('Min e max non attivi:'+str(min_nonatt)+' - '+str(max_nonatt))"
   ]
  },
  {
   "cell_type": "code",
   "execution_count": 25,
   "metadata": {},
   "outputs": [
    {
     "name": "stdout",
     "output_type": "stream",
     "text": [
      "Inizio = 2021-04-07 16:24:03\n",
      "Fine = 2021-04-07 18:14:45\n"
     ]
    }
   ],
   "source": [
    "#Creo il file households.xml\n",
    "print(\"Inizio =\", datetime.fromtimestamp(time.time()).strftime('%Y-%m-%d %H:%M:%S'))\n",
    "\n",
    "root=ET.Element('households')\n",
    "root.attrib['xmlns']=\"http://www.matsim.org/files/dtd\"\n",
    "root.attrib['xsi:schemaLocation']=\"http://www.matsim.org/files/dtd http://www.matsim.org/files/dtd/households_v1.0.xsd\"\n",
    "root.attrib['xmlns:xsi']=\"http://www.w3.org/2001/XMLSchema-instance\"\n",
    "\n",
    "for i in range(0,max_nonatt+1):\n",
    "    household = ET.SubElement(root, 'household')\n",
    "    household.attrib['id']=str(i)\n",
    "    members = ET.SubElement(household, 'members')\n",
    "    \n",
    "    att=list(filter(lambda a: a['id_fam']==i,attivi))\n",
    "    for a in att:\n",
    "        personId = ET.SubElement(members, 'personId')\n",
    "        personId.attrib['refId']=str(a['id'])\n",
    "        \n",
    "    non_att=list(filter(lambda a: a['id_fam']==i,non_attivi))\n",
    "    for a in non_att:\n",
    "        personId = ET.SubElement(members, 'personId')\n",
    "        personId.attrib['refId']=str(a['id'])\n",
    "        \n",
    "print(\"Fine =\", datetime.fromtimestamp(time.time()).strftime('%Y-%m-%d %H:%M:%S'))"
   ]
  },
  {
   "cell_type": "code",
   "execution_count": 26,
   "metadata": {},
   "outputs": [],
   "source": [
    "#Salvo\n",
    "with open('households.xml', 'wb') as f:\n",
    "    f.write('<?xml version=\"1.0\" encoding=\"utf-8\"?>'.encode('utf8'))\n",
    "    ET.ElementTree(root).write(f, 'utf-8')"
   ]
  },
  {
   "cell_type": "code",
   "execution_count": null,
   "metadata": {},
   "outputs": [],
   "source": []
  }
 ],
 "metadata": {
  "kernelspec": {
   "display_name": "Python 3",
   "language": "python",
   "name": "python3"
  },
  "language_info": {
   "codemirror_mode": {
    "name": "ipython",
    "version": 3
   },
   "file_extension": ".py",
   "mimetype": "text/x-python",
   "name": "python",
   "nbconvert_exporter": "python",
   "pygments_lexer": "ipython3",
   "version": "3.8.8"
  }
 },
 "nbformat": 4,
 "nbformat_minor": 4
}
