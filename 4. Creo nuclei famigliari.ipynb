{
 "cells": [
  {
   "cell_type": "code",
   "execution_count": 1,
   "metadata": {},
   "outputs": [],
   "source": [
    "import json\n",
    "import random\n",
    "\n",
    "from datetime import datetime\n",
    "import time"
   ]
  },
  {
   "cell_type": "code",
   "execution_count": 2,
   "metadata": {},
   "outputs": [],
   "source": [
    "with open('./json_agenti.json') as json_file:\n",
    "    agenti = json.load(json_file)\n",
    "with open('./json_info_sezioni.json') as json_file:\n",
    "    info_sezioni = json.load(json_file)"
   ]
  },
  {
   "cell_type": "code",
   "execution_count": 4,
   "metadata": {},
   "outputs": [
    {
     "name": "stdout",
     "output_type": "stream",
     "text": [
      "Inizio = 2021-03-23 15:14:05\n",
      "Fine = 2021-03-23 15:16:47\n"
     ]
    }
   ],
   "source": [
    "#Controllo consistenza dati\n",
    "print(\"Inizio =\", datetime.fromtimestamp(time.time()).strftime('%Y-%m-%d %H:%M:%S'))\n",
    "\n",
    "for s in info_sezioni:\n",
    "    agenti_residenti=list(filter(lambda a: a['sez_residenza'] == s['sezione'], agenti))\n",
    "    if s['abitanti']<len(agenti_residenti):\n",
    "        print(\"Numero residenti sezione: \"+str(s['abitanti'])+\"Abitanti necessari: \"+str(len(agenti_residenti)))\n",
    "\n",
    "print(\"Fine =\", datetime.fromtimestamp(time.time()).strftime('%Y-%m-%d %H:%M:%S'))"
   ]
  },
  {
   "cell_type": "code",
   "execution_count": 5,
   "metadata": {},
   "outputs": [
    {
     "name": "stdout",
     "output_type": "stream",
     "text": [
      "Inizio = 2021-03-23 15:17:47\n",
      "Fine = 2021-03-23 16:21:37\n"
     ]
    }
   ],
   "source": [
    "#Creazione nucli famigliari\n",
    "print(\"Inizio =\", datetime.fromtimestamp(time.time()).strftime('%Y-%m-%d %H:%M:%S'))\n",
    "\n",
    "id_fam=0\n",
    "agenti_new=[]\n",
    "\n",
    "for a in agenti:\n",
    "    if not 'id_fam' in a and a['tipo']=='attiva':\n",
    "        tipi=list(range(0,6))\n",
    "        random.shuffle(tipi)\n",
    "    \n",
    "        for t in tipi:\n",
    "            if t==0: #Single           \n",
    "                a['id_fam']=id_fam\n",
    "                id_fam=id_fam+1\n",
    "                agenti_new.append(a)\n",
    "                break\n",
    "                \n",
    "            if t==1: #Coppia\n",
    "                a['id_fam']=id_fam\n",
    "                agenti_new.append(a)\n",
    "                agenti_residenti=list(filter(lambda an: an['sez_residenza'] == a['sez_residenza'] and an['tipo']=='attiva' and not 'id_fam' in an,agenti))\n",
    "                try:\n",
    "                    a2=agenti_residenti[0]\n",
    "                    a2['id_fam']=id_fam\n",
    "                    agenti_new.append(a2)\n",
    "                    id_fam=id_fam+1\n",
    "                    break\n",
    "                except:\n",
    "                    id_fam=id_fam+1\n",
    "                    break\n",
    "            if t==2: #Coppia con figlio piccolo\n",
    "                a['id_fam']=id_fam\n",
    "                agenti_new.append(a)\n",
    "                \n",
    "                #Partner\n",
    "                agenti_residenti=list(filter(lambda an: an['sez_residenza'] == a['sez_residenza'] and an['tipo']=='attiva' and not 'id_fam' in an,agenti))\n",
    "                try:\n",
    "                    a2=agenti_residenti[0]\n",
    "                    a2['id_fam']=id_fam\n",
    "                    agenti_new.append(a2)\n",
    "                except:\n",
    "                    id_fam=id_fam+1\n",
    "                    break\n",
    "                #Figlio \n",
    "                agenti_residenti=list(filter(lambda an: an['sez_residenza'] == a['sez_residenza'] and an['tipo']=='giovane' and not 'id_fam' in an,agenti))\n",
    "                try:\n",
    "                    g1=agenti_residenti[0]\n",
    "                    g1['id_fam']=id_fam\n",
    "                    agenti_new.append(g1)\n",
    "                    id_fam=id_fam+1\n",
    "                    break\n",
    "                except:\n",
    "                    id_fam=id_fam+1\n",
    "                    break\n",
    "            if t==3: #Single con figlio\n",
    "                a['id_fam']=id_fam\n",
    "                agenti_new.append(a)\n",
    "                \n",
    "                #Figlio \n",
    "                agenti_residenti=list(filter(lambda an: an['sez_residenza'] == a['sez_residenza'] and an['tipo']=='giovane' and not 'id_fam' in an,agenti))\n",
    "                try:\n",
    "                    g1=agenti_residenti[0]\n",
    "                    g1['id_fam']=id_fam\n",
    "                    agenti_new.append(g1)\n",
    "                    id_fam=id_fam+1\n",
    "                    break\n",
    "                except:\n",
    "                    id_fam=id_fam+1\n",
    "                    break\n",
    "            if t==4: #Coppia con figlio attivo\n",
    "                a['id_fam']=id_fam\n",
    "                agenti_new.append(a)\n",
    "                \n",
    "                #Partner\n",
    "                agenti_residenti=list(filter(lambda an: an['sez_residenza'] == a['sez_residenza'] and an['tipo']=='attiva' and not 'id_fam' in an,agenti))\n",
    "                try:\n",
    "                    a2=agenti_residenti[0]\n",
    "                    a2['id_fam']=id_fam\n",
    "                    agenti_new.append(a2)\n",
    "                except:\n",
    "                    id_fam=id_fam+1\n",
    "                    break\n",
    "                    \n",
    "                #Figlio \n",
    "                agenti_residenti=list(filter(lambda an: an['sez_residenza'] == a['sez_residenza'] and an['categoria']=='studente' and not 'id_fam' in an,agenti))\n",
    "                try:\n",
    "                    s1=agenti_residenti[0]\n",
    "                    s1['id_fam']=id_fam\n",
    "                    agenti_new.append(s1)\n",
    "                    id_fam=id_fam+1\n",
    "                    break\n",
    "                except:\n",
    "                    id_fam=id_fam+1\n",
    "                    break\n",
    "            if t==5: #Studenti (max 3)\n",
    "                a['id_fam']=id_fam\n",
    "                agenti_new.append(a)\n",
    "                \n",
    "                #Studente 2\n",
    "                agenti_residenti=list(filter(lambda an: an['sez_residenza'] == a['sez_residenza'] and an['categoria']=='studente' and not 'id_fam' in an,agenti))\n",
    "                try:\n",
    "                    s1=agenti_residenti[0]\n",
    "                    s1['id_fam']=id_fam\n",
    "                    agenti_new.append(s1)\n",
    "                except:\n",
    "                    id_fam=id_fam+1\n",
    "                    break\n",
    "                #Studente 3 \n",
    "                agenti_residenti=list(filter(lambda an: an['sez_residenza'] == a['sez_residenza'] and an['categoria']=='studente' and not 'id_fam' in an,agenti))\n",
    "                try:\n",
    "                    s2=agenti_residenti[0]\n",
    "                    s2['id_fam']=id_fam\n",
    "                    agenti_new.append(s2)\n",
    "                    id_fam=id_fam+1\n",
    "                    break\n",
    "                except:\n",
    "                    id_fam=id_fam+1\n",
    "                    break\n",
    "\n",
    "print(\"Fine =\", datetime.fromtimestamp(time.time()).strftime('%Y-%m-%d %H:%M:%S'))\n"
   ]
  },
  {
   "cell_type": "code",
   "execution_count": 6,
   "metadata": {},
   "outputs": [],
   "source": [
    "#Salvo il file\n",
    "with open('./json_agenti_fam.json', 'w') as fp:\n",
    "        json.dump(agenti_new, fp)"
   ]
  },
  {
   "cell_type": "code",
   "execution_count": 7,
   "metadata": {},
   "outputs": [
    {
     "data": {
      "text/plain": [
       "Counter({1: 34698, 2: 41801, 3: 28759})"
      ]
     },
     "execution_count": 7,
     "metadata": {},
     "output_type": "execute_result"
    }
   ],
   "source": [
    "#Controllo elaborazione - Counter numero di nuclei per grandezza\n",
    "id_fam_c=0\n",
    "count=0\n",
    "tipo=[]\n",
    "for a in agenti_new:\n",
    "    id_fam=a['id_fam']\n",
    "    if id_fam_c==id_fam:\n",
    "        count=count+1\n",
    "    else:\n",
    "        tipo.append(count)\n",
    "        id_fam_c=id_fam\n",
    "        count=1\n",
    "        \n",
    "from collections import Counter\n",
    "\n",
    "Counter(tipo)\n",
    "    "
   ]
  },
  {
   "cell_type": "code",
   "execution_count": null,
   "metadata": {},
   "outputs": [],
   "source": []
  }
 ],
 "metadata": {
  "kernelspec": {
   "display_name": "Python 3",
   "language": "python",
   "name": "python3"
  },
  "language_info": {
   "codemirror_mode": {
    "name": "ipython",
    "version": 3
   },
   "file_extension": ".py",
   "mimetype": "text/x-python",
   "name": "python",
   "nbconvert_exporter": "python",
   "pygments_lexer": "ipython3",
   "version": "3.8.8"
  }
 },
 "nbformat": 4,
 "nbformat_minor": 4
}
