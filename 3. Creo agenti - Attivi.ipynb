{
 "cells": [
  {
   "cell_type": "code",
   "execution_count": 8,
   "metadata": {},
   "outputs": [],
   "source": [
    "import json\n",
    "import random\n",
    "from IPython.display import clear_output\n",
    "from threading import Thread, Lock\n",
    "from datetime import datetime\n",
    "import time\n",
    "\n",
    "mutex=Lock()"
   ]
  },
  {
   "cell_type": "code",
   "execution_count": 9,
   "metadata": {},
   "outputs": [],
   "source": [
    "with open('./json_info_sezioni.json') as json_file:\n",
    "    info_sezioni = json.load(json_file)"
   ]
  },
  {
   "cell_type": "code",
   "execution_count": 10,
   "metadata": {},
   "outputs": [],
   "source": [
    "with open('./json_posti_lavoro.json') as json_file:\n",
    "    posti_lavoro = json.load(json_file)"
   ]
  },
  {
   "cell_type": "code",
   "execution_count": 11,
   "metadata": {},
   "outputs": [],
   "source": [
    "with open('./POI_scuola.json') as json_file:\n",
    "    scuole = json.load(json_file)"
   ]
  },
  {
   "cell_type": "code",
   "execution_count": 12,
   "metadata": {},
   "outputs": [],
   "source": [
    "#Dati pendolarismo Milano\n",
    "with open('/Volumes/HDD/Università/Tirocinio/Dati censo/ds390_Pendolarismo_entroMI_sezione.json') as json_file:\n",
    "    spostamenti = json.load(json_file)"
   ]
  },
  {
   "cell_type": "code",
   "execution_count": 14,
   "metadata": {},
   "outputs": [
    {
     "name": "stdout",
     "output_type": "stream",
     "text": [
      "Inizio = 2021-03-23 11:32:43\n",
      "Spostamenti validi: 210737\n",
      "Spostamenti non elaborati: 292621\n",
      "Fine = 2021-03-23 12:22:02\n"
     ]
    }
   ],
   "source": [
    "print(\"Inizio =\", datetime.fromtimestamp(time.time()).strftime('%Y-%m-%d %H:%M:%S'))\n",
    "\n",
    "agenti=[]\n",
    "id_agente=0\n",
    "count_spost=0\n",
    "mov_non_elab=[]\n",
    "\n",
    "def crea_agente(s):\n",
    "    \n",
    "    global agenti\n",
    "    global id_agente\n",
    "    global mov_non_elab\n",
    "    \n",
    "    for i in range(0,s['Numerositŕ']):\n",
    "\n",
    "        agente={} \n",
    "        sez_origine=s['Sezione di origine']\n",
    "        sez_destinazione=s['Sezione di destinazione']\n",
    "\n",
    "        if sez_origine =='Non determinata' or sez_destinazione==\"Non determinata\":\n",
    "            break\n",
    "        \n",
    "        sez=list(filter(lambda sez: sez['sezione'] == int(sez_origine), info_sezioni))\n",
    "        if sez:\n",
    "            sez=sez[0]\n",
    "        else:\n",
    "            break\n",
    "        \n",
    "        posti_disp=list(filter(lambda p: p['sezione_censo'] == int(sez_destinazione), posti_lavoro))\n",
    "        random.shuffle(posti_disp)\n",
    "        scuole_disp=list(filter(lambda scuola: scuola['sezione_censo'] == int(sez_destinazione), scuole))\n",
    "        random.shuffle(scuole_disp)\n",
    "\n",
    "        if s['Motivo']=='Lavoro':\n",
    "            for p in posti_disp:\n",
    "                if sez['num_eta_attiva_15-64']>0 and p['dipendenti']>0:\n",
    "                    sez['num_eta_attiva_15-64']=sez['num_eta_attiva_15-64']-1\n",
    "                    p['dipendenti']=p['dipendenti']-1\n",
    "\n",
    "                    agente={}\n",
    "                    agente['id']=id_agente\n",
    "                    id_agente=id_agente+1\n",
    "                    agente['tipo']='attiva'\n",
    "                    agente['categoria']='lavoratore'\n",
    "                    agente['sez_residenza']=sez['sezione']\n",
    "                    agente['posto_lavoro']=p['id']\n",
    "                    agente['automunito']=random.choice([True, False])\n",
    "                    \n",
    "                    agenti.append(agente)\n",
    "                    break\n",
    "            if agente =={}:\n",
    "                mov_non_elab.append('Spost: '+str(count_spost)+' Orig: '+str(sez_origine)+' Dest: '+str(sez_destinazione)+' Motivo: '+s['Motivo'])  \n",
    "\n",
    "        if s['Motivo']=='Studio':\n",
    "            for p in scuole_disp:                    \n",
    "                if sez['num_giovani_5-14']>0 and p['capienza']>0 and (p['tipo_edificio']=='school' or p['tipo_edificio']=='kindergarten'):\n",
    "                    sez['num_giovani_5-14']=sez['num_giovani_5-14']-1\n",
    "                    p['capienza']=p['capienza']-1\n",
    "\n",
    "                    agente={}\n",
    "                    agente['id']=id_agente\n",
    "                    id_agente=id_agente+1\n",
    "                    agente['tipo']='giovane'\n",
    "                    agente['categoria']='studente'\n",
    "                    agente['sez_residenza']=sez['sezione']\n",
    "                    agente['scuola_appartenenza']=p['id']\n",
    "                    agente['automunito']=False\n",
    "\n",
    "                    agenti.append(agente)\n",
    "                    break\n",
    "\n",
    "                if sez['num_eta_attiva_15-64']>0 and p['capienza']>0 and (p['tipo_edificio']=='university' or p['tipo_edificio']=='college'):\n",
    "                    sez['num_eta_attiva_15-64']=sez['num_eta_attiva_15-64']-1\n",
    "                    p['capienza']=p['capienza']-1\n",
    "\n",
    "                    agente={}\n",
    "                    agente['id']=id_agente\n",
    "                    id_agente=id_agente+1\n",
    "                    agente['tipo']='attiva'\n",
    "                    agente['categoria']='studente'\n",
    "                    agente['sez_residenza']=sez['sezione']\n",
    "                    agente['scuola_appartenenza']=p['id']\n",
    "                    agente['automunito']=random.choice([True, False])\n",
    "\n",
    "                    agenti.append(agente)\n",
    "                    break\n",
    "\n",
    "            if agente =={}:\n",
    "                mov_non_elab.append('Spost: '+str(count_spost)+' Orig: '+str(sez_origine)+' Dest: '+str(sez_destinazione)+' Motivo: '+s['Motivo'])  \n",
    "            \n",
    "for s in spostamenti:\n",
    "    crea_agente(s)\n",
    "\n",
    "print('Spostamenti validi: '+str(len(agenti)))\n",
    "print('Spostamenti non elaborati: '+str(len(mov_non_elab)))\n",
    "\n",
    "print(\"Fine =\", datetime.fromtimestamp(time.time()).strftime('%Y-%m-%d %H:%M:%S'))"
   ]
  },
  {
   "cell_type": "code",
   "execution_count": 15,
   "metadata": {},
   "outputs": [],
   "source": [
    "with open('./json_agenti.json', 'w') as fp:\n",
    "        json.dump(agenti, fp)"
   ]
  },
  {
   "cell_type": "code",
   "execution_count": 16,
   "metadata": {},
   "outputs": [],
   "source": [
    "with open('./json_non_elab.json', 'w') as fp:\n",
    "        json.dump(mov_non_elab, fp)"
   ]
  },
  {
   "cell_type": "code",
   "execution_count": 17,
   "metadata": {},
   "outputs": [],
   "source": [
    "with open('./json_posti_lavoro_rimasti.json', 'w') as fp:\n",
    "        json.dump(posti_lavoro, fp)"
   ]
  },
  {
   "cell_type": "code",
   "execution_count": 18,
   "metadata": {},
   "outputs": [],
   "source": [
    "with open('./json_scuole_rimaste.json', 'w') as fp:\n",
    "        json.dump(scuole, fp)"
   ]
  }
 ],
 "metadata": {
  "kernelspec": {
   "display_name": "Python 3",
   "language": "python",
   "name": "python3"
  },
  "language_info": {
   "codemirror_mode": {
    "name": "ipython",
    "version": 3
   },
   "file_extension": ".py",
   "mimetype": "text/x-python",
   "name": "python",
   "nbconvert_exporter": "python",
   "pygments_lexer": "ipython3",
   "version": "3.8.8"
  }
 },
 "nbformat": 4,
 "nbformat_minor": 4
}
