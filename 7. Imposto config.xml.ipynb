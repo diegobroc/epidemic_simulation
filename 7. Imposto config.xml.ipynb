{
 "cells": [
  {
   "cell_type": "code",
   "execution_count": 1,
   "metadata": {},
   "outputs": [],
   "source": [
    "import json\n",
    "import xml.etree.ElementTree as ET"
   ]
  },
  {
   "cell_type": "code",
   "execution_count": 2,
   "metadata": {},
   "outputs": [],
   "source": [
    "attivita=[]\n",
    "attivita.append({'nome':'casa','durata':'10:00:00'})\n",
    "\n",
    "attivita.append({'nome':'lavoroEssenziale','durata':'02:00:00'})\n",
    "attivita.append({'nome':'lavoroNonEssenziale','durata':'02:00:00'})\n",
    "attivita.append({'nome':'studio','durata':'02:00:00'})\n",
    "\n",
    "attivita.append({'nome':'ristoro','durata':'01:00:00'})\n",
    "\n",
    "attivita.append({'nome':'spesaEssenziale','durata':'01:00:00'})\n",
    "attivita.append({'nome':'spesaNonEssenziale','durata':'01:00:00'})\n",
    "\n",
    "attivita.append({'nome':'turismo','durata':'01:00:00'})\n",
    "attivita.append({'nome':'sport','durata':'01:00:00'})\n",
    "attivita.append({'nome':'servizi','durata':'01:00:00'})\n",
    "attivita.append({'nome':'tempoLibero','durata':'01:00:00'})\n",
    "\n",
    "attivita.append({'nome':'serata','durata':'01:00:00'})\n",
    "\n"
   ]
  },
  {
   "cell_type": "code",
   "execution_count": 3,
   "metadata": {},
   "outputs": [],
   "source": [
    "root=ET.Element('config')\n",
    "module = ET.SubElement(root, 'module')\n",
    "module.attrib['name']='network'\n",
    "param = ET.SubElement(module,'param')\n",
    "param.attrib['name']='inputNetworkFile'\n",
    "param.attrib['value']='./Milan_Network.xml'\n",
    "\n",
    "module = ET.SubElement(root, 'module')\n",
    "module.attrib['name']='plans'\n",
    "param = ET.SubElement(module,'param')\n",
    "param.attrib['name']='inputPlansFile'\n",
    "param.attrib['value']='./population.xml'\n",
    "\n",
    "module = ET.SubElement(root, 'module')\n",
    "module.attrib['name']='controler'\n",
    "param = ET.SubElement(module,'param')\n",
    "param.attrib['name']='firstIteration'\n",
    "param.attrib['value']='0'\n",
    "param.attrib['name']='lastIteration'\n",
    "param.attrib['value']='0'\n",
    "\n",
    "module = ET.SubElement(root, 'module')\n",
    "module.attrib['name']='planCalcScore'\n",
    "\n",
    "for a in attivita:\n",
    "    parameterset = ET.SubElement(module,'parameterset')\n",
    "    parameterset.attrib['type']='activityParams'\n",
    "    param= ET.SubElement(parameterset,'param')\n",
    "    param.attrib['name']='activityType'\n",
    "    param.attrib['value']=a['nome']\n",
    "    param= ET.SubElement(parameterset,'param')\n",
    "    param.attrib['name']='typicalDuration'\n",
    "    param.attrib['value']=a['durata']\n",
    "\n",
    "module = ET.SubElement(root, 'module')\n",
    "module.attrib['name']='global'\n",
    "param = ET.SubElement(module,'param')\n",
    "param.attrib['name']='coordinateSystem'\n",
    "param.attrib['value']='EPSG:32633'\n",
    "\n",
    "with open('config.xml', 'wb') as f:\n",
    "    f.write('<?xml version=\"1.0\"?>\\n<!DOCTYPE config SYSTEM \"http://www.matsim.org/files/dtd/config_v2.dtd\">'.encode('utf8'))\n",
    "    ET.ElementTree(root).write(f, 'utf-8')"
   ]
  },
  {
   "cell_type": "code",
   "execution_count": null,
   "metadata": {},
   "outputs": [],
   "source": []
  }
 ],
 "metadata": {
  "kernelspec": {
   "display_name": "Python 3",
   "language": "python",
   "name": "python3"
  },
  "language_info": {
   "codemirror_mode": {
    "name": "ipython",
    "version": 3
   },
   "file_extension": ".py",
   "mimetype": "text/x-python",
   "name": "python",
   "nbconvert_exporter": "python",
   "pygments_lexer": "ipython3",
   "version": "3.7.5"
  }
 },
 "nbformat": 4,
 "nbformat_minor": 4
}
