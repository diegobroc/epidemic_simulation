{
 "cells": [
  {
   "cell_type": "code",
   "execution_count": 6,
   "metadata": {},
   "outputs": [],
   "source": [
    "import json\n",
    "import random\n",
    "from IPython.display import clear_output\n",
    "from threading import Thread, Lock\n",
    "from datetime import datetime\n",
    "import time\n",
    "import numpy as np\n",
    "from shapely.geometry import Polygon, Point\n",
    "\n",
    "mutex=Lock()"
   ]
  },
  {
   "cell_type": "code",
   "execution_count": 7,
   "metadata": {},
   "outputs": [],
   "source": [
    "with open('./json_info_sezioni.json') as json_file:\n",
    "    info_sezioni = json.load(json_file)"
   ]
  },
  {
   "cell_type": "code",
   "execution_count": 8,
   "metadata": {},
   "outputs": [],
   "source": [
    "with open('./json_agenti_res.json') as json_file:\n",
    "    agenti_attivi = json.load(json_file)"
   ]
  },
  {
   "cell_type": "code",
   "execution_count": 9,
   "metadata": {},
   "outputs": [],
   "source": [
    "#Individuo numero di abitanti per sezione e verifico che nessuno ecceda della stima calcolata\n",
    "sezioni=[0]*6108\n",
    "\n",
    "for a in agenti_attivi:\n",
    "    sez_residenza=a['sez_residenza']\n",
    "    sezioni[sez_residenza]=sezioni[sez_residenza]+1\n",
    "\n",
    "for s in info_sezioni:\n",
    "    if s['abitanti']<sezioni[s['sezione']]:\n",
    "        print(\"sez. num: \"+str(s['sezione']))\n",
    "    "
   ]
  },
  {
   "cell_type": "code",
   "execution_count": 13,
   "metadata": {},
   "outputs": [],
   "source": [
    "#Calcolo numero di non attivi generabili (10-15% per ogni sezione dai possibili)\n",
    "non_attivi=[0]*6108\n",
    "\n",
    "for s in info_sezioni:\n",
    "    attivi_stima=s['num_eta_attiva_15-64']\n",
    "    over65_stima=s['num_anziani_over65']\n",
    "    non_attivi[s['sezione']]=int(round((attivi_stima-sezioni[s['sezione']]+over65_stima)*random.randint(15,20)/100,0))\n",
    "    \n",
    "    "
   ]
  },
  {
   "cell_type": "code",
   "execution_count": 14,
   "metadata": {},
   "outputs": [
    {
     "data": {
      "text/plain": [
       "165268"
      ]
     },
     "execution_count": 14,
     "metadata": {},
     "output_type": "execute_result"
    }
   ],
   "source": [
    "#Numero agenti non attivi\n",
    "sum(non_attivi)"
   ]
  },
  {
   "cell_type": "code",
   "execution_count": 15,
   "metadata": {},
   "outputs": [
    {
     "data": {
      "text/plain": [
       "210736"
      ]
     },
     "execution_count": 15,
     "metadata": {},
     "output_type": "execute_result"
    }
   ],
   "source": [
    "#Trovo ultimo id agenti\n",
    "ids=[]\n",
    "for a in agenti_attivi:\n",
    "    ids.append(a['id'])\n",
    "max(ids)"
   ]
  },
  {
   "cell_type": "code",
   "execution_count": 16,
   "metadata": {},
   "outputs": [],
   "source": [
    "id_a=210737 #Ultimo id agenti_attivi\n",
    "agenti_non_attivi=[]\n",
    "\n",
    "#Creo agenti non attivi\n",
    "for s in info_sezioni:\n",
    "    num_non_attivi=non_attivi[s['sezione']]\n",
    "    for i in range(0,num_non_attivi):\n",
    "        a={}\n",
    "        a['id']=id_a\n",
    "        id_a=id_a+1\n",
    "        a['tipo']='non_attiva'\n",
    "        a['categoria']=random.choice(['lavoratore','over65'])\n",
    "        a['sez_residenza']=s['sezione']\n",
    "        a['automunito']=random.choice([True,False])\n",
    "        agenti_non_attivi.append(a)\n"
   ]
  },
  {
   "cell_type": "code",
   "execution_count": 17,
   "metadata": {},
   "outputs": [],
   "source": [
    "#Salvo agenti non attivi\n",
    "with open('./json_agenti_non_attivi.json', 'w') as fp:\n",
    "        json.dump(agenti_non_attivi, fp)"
   ]
  },
  {
   "cell_type": "markdown",
   "metadata": {},
   "source": [
    "_____________"
   ]
  },
  {
   "cell_type": "code",
   "execution_count": 18,
   "metadata": {},
   "outputs": [
    {
     "data": {
      "text/plain": [
       "105258"
      ]
     },
     "execution_count": 18,
     "metadata": {},
     "output_type": "execute_result"
    }
   ],
   "source": [
    "#Trovo ultimo id famiglia\n",
    "ids=[]\n",
    "for a in agenti_attivi:\n",
    "    ids.append(a['id_fam'])\n",
    "max(ids)"
   ]
  },
  {
   "cell_type": "code",
   "execution_count": 19,
   "metadata": {},
   "outputs": [
    {
     "name": "stdout",
     "output_type": "stream",
     "text": [
      "Inizio = 2021-03-24 09:56:56\n",
      "Inizializzazione lista threads\n",
      "Avvio threads\n",
      "Attendo che tutti abbiano terminato\n",
      "Fine = 2021-03-24 11:45:11\n"
     ]
    }
   ],
   "source": [
    "print(\"Inizio =\", datetime.fromtimestamp(time.time()).strftime('%Y-%m-%d %H:%M:%S'))\n",
    "mutex=Lock()\n",
    "\n",
    "#Assegno o creo nuclei famigliari\n",
    "id_fam=105259\n",
    "\n",
    "def crea_agente(a):\n",
    "#for a in agenti_non_attivi:\n",
    "    global mutex\n",
    "    global id_fam\n",
    "    \n",
    "    sez_residenza=a['sez_residenza']\n",
    "    nuclei_stessa_sez=[]\n",
    "    \n",
    "    attivi_stessa_sez=list(filter(lambda at: at['sez_residenza'] == sez_residenza, agenti_attivi))\n",
    "    for at in attivi_stessa_sez:\n",
    "        nuclei_stessa_sez.append(at['id_fam'])\n",
    "        \n",
    "    non_attivi_stessa_sez=list(filter(lambda nat: nat['sez_residenza'] == sez_residenza, agenti_non_attivi))\n",
    "    for nat in non_attivi_stessa_sez:\n",
    "        if 'id_fam' in nat:\n",
    "            nuclei_stessa_sez.append(nat['id_fam'])\n",
    "        \n",
    "    if random.choice([True,True,False]) and len(nuclei_stessa_sez)!=0: #Assegno agente ad un nucleo già esistente \n",
    "        a['id_fam']=random.choice(nuclei_stessa_sez)\n",
    "    else:\n",
    "        mutex.acquire()\n",
    "        a['id_fam']=id_fam\n",
    "        id_fam=id_fam+1\n",
    "        mutex.release()\n",
    "\n",
    "#Inizializzazione Threads\n",
    "print(\"Inizializzazione lista threads\")\n",
    "threads = []\n",
    "\n",
    "for a in agenti_non_attivi:\n",
    "    t=Thread(target=crea_agente, args=(a,))\n",
    "    threads.append(t)\n",
    "\n",
    "#Avvio i threads\n",
    "print(\"Avvio threads\")\n",
    "for x in threads:\n",
    "    x.start()\n",
    "\n",
    "#Attendo che tutti abbiano terminato\n",
    "print(\"Attendo che tutti abbiano terminato\")\n",
    "for x in threads:\n",
    "    x.join()\n",
    "        \n",
    "print(\"Fine =\", datetime.fromtimestamp(time.time()).strftime('%Y-%m-%d %H:%M:%S'))"
   ]
  },
  {
   "cell_type": "code",
   "execution_count": 20,
   "metadata": {},
   "outputs": [],
   "source": [
    "#Salvo agenti non attivi con famiglia\n",
    "with open('./json_agenti_non_attivi_fam.json', 'w') as fp:\n",
    "        json.dump(agenti_non_attivi, fp)"
   ]
  },
  {
   "cell_type": "code",
   "execution_count": 21,
   "metadata": {},
   "outputs": [
    {
     "data": {
      "text/plain": [
       "Counter({0: 1,\n",
       "         1: 187355,\n",
       "         2: 47179,\n",
       "         3: 29224,\n",
       "         4: 59,\n",
       "         5: 21,\n",
       "         6: 13,\n",
       "         8: 1,\n",
       "         10: 1,\n",
       "         7: 2,\n",
       "         11: 1})"
      ]
     },
     "execution_count": 21,
     "metadata": {},
     "output_type": "execute_result"
    }
   ],
   "source": [
    "#Controllo elaborazione\n",
    "id_fam_c=0\n",
    "count=0\n",
    "tipo=[]\n",
    "for a in agenti_non_attivi:\n",
    "    id_fam=a['id_fam']\n",
    "    if id_fam_c==id_fam:\n",
    "        count=count+1\n",
    "    else:\n",
    "        tipo.append(count)\n",
    "        id_fam_c=id_fam\n",
    "        count=1\n",
    "\n",
    "for a in agenti_attivi:\n",
    "    id_fam=a['id_fam']\n",
    "    if id_fam_c==id_fam:\n",
    "        count=count+1\n",
    "    else:\n",
    "        tipo.append(count)\n",
    "        id_fam_c=id_fam\n",
    "        count=1\n",
    "        \n",
    "from collections import Counter\n",
    "\n",
    "Counter(tipo)\n",
    "    "
   ]
  },
  {
   "cell_type": "code",
   "execution_count": 22,
   "metadata": {},
   "outputs": [],
   "source": [
    "#importo json agenti non attivi\n",
    "with open('./json_agenti_non_attivi_fam.json') as json_file:\n",
    "    agenti_non_attivi = json.load(json_file)"
   ]
  },
  {
   "cell_type": "code",
   "execution_count": 23,
   "metadata": {},
   "outputs": [],
   "source": [
    "#importo json agenti attivi\n",
    "with open('./json_agenti_res.json') as json_file:\n",
    "    agenti_attivi = json.load(json_file)"
   ]
  },
  {
   "cell_type": "code",
   "execution_count": 24,
   "metadata": {},
   "outputs": [],
   "source": [
    "with open('/Volumes/HDD/Università/Tirocinio/Dati censo/sezioni_censimento_2011.geojson') as file:\n",
    "    gj_sezioni = json.load(file)\n",
    "features_sezioni=gj_sezioni['features']"
   ]
  },
  {
   "cell_type": "code",
   "execution_count": 25,
   "metadata": {},
   "outputs": [],
   "source": [
    "#Funzione per generare punto casuale in un poligono\n",
    "def random_point_within(poly):\n",
    "    min_x, min_y, max_x, max_y = poly.bounds\n",
    "    \n",
    "    while True:\n",
    "        random_point = Point([random.uniform(min_x, max_x), random.uniform(min_y, max_y)])\n",
    "        if (random_point.within(poly)):\n",
    "            return random_point"
   ]
  },
  {
   "cell_type": "code",
   "execution_count": 28,
   "metadata": {},
   "outputs": [
    {
     "data": {
      "text/plain": [
       "55006"
      ]
     },
     "execution_count": 28,
     "metadata": {},
     "output_type": "execute_result"
    }
   ],
   "source": [
    "#Trovo ultimo id famiglia\n",
    "ids=[]\n",
    "for a in agenti_non_attivi:\n",
    "    ids.append(a['id_fam'])\n",
    "max(ids)-105258"
   ]
  },
  {
   "cell_type": "code",
   "execution_count": 30,
   "metadata": {},
   "outputs": [],
   "source": [
    "#Assegno residenza alle famiglie\n",
    "famiglie=[None] * (55007)\n",
    "for an in agenti_non_attivi:\n",
    "    if an['id_fam']>=105259:\n",
    "        sezione=list(filter(lambda s: s['properties']['SEZ'] == an['sez_residenza'],features_sezioni))\n",
    "        poly = Polygon(sezione[0]['geometry']['coordinates'][0])\n",
    "        point = random_point_within(poly)\n",
    "        famiglie[an['id_fam']-105258]=point"
   ]
  },
  {
   "cell_type": "code",
   "execution_count": 32,
   "metadata": {},
   "outputs": [],
   "source": [
    "#Assegna residenza\n",
    "for na in agenti_non_attivi:\n",
    "    id_fam=na['id_fam']\n",
    "    if id_fam >= 105259: #nuove residenze\n",
    "        na['X_residenza']=famiglie[id_fam-105258].x\n",
    "        na['Y_residenza']=famiglie[id_fam-105258].y\n",
    "    else: #fam già creata\n",
    "        fam=list(filter(lambda a: a['id_fam'] == id_fam,agenti_attivi))\n",
    "        na['X_residenza']=fam[0]['X_residenza']\n",
    "        na['Y_residenza']=fam[0]['Y_residenza']\n"
   ]
  },
  {
   "cell_type": "code",
   "execution_count": 33,
   "metadata": {},
   "outputs": [],
   "source": [
    "#Salvo agenti non attivi con residenza\n",
    "with open('./json_agenti_non_attivi_res.json', 'w') as fp:\n",
    "        json.dump(agenti_non_attivi, fp)"
   ]
  },
  {
   "cell_type": "code",
   "execution_count": null,
   "metadata": {},
   "outputs": [],
   "source": []
  }
 ],
 "metadata": {
  "kernelspec": {
   "display_name": "Python 3",
   "language": "python",
   "name": "python3"
  },
  "language_info": {
   "codemirror_mode": {
    "name": "ipython",
    "version": 3
   },
   "file_extension": ".py",
   "mimetype": "text/x-python",
   "name": "python",
   "nbconvert_exporter": "python",
   "pygments_lexer": "ipython3",
   "version": "3.7.5"
  }
 },
 "nbformat": 4,
 "nbformat_minor": 4
}
