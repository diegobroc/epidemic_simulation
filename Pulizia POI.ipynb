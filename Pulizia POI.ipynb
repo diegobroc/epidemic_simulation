{
 "cells": [
  {
   "cell_type": "code",
   "execution_count": 1,
   "metadata": {},
   "outputs": [],
   "source": [
    "import json"
   ]
  },
  {
   "cell_type": "code",
   "execution_count": 2,
   "metadata": {},
   "outputs": [],
   "source": [
    "#Funzione trasformazione coordinate\n",
    "from pyproj import Transformer\n",
    "\n",
    "def trans_coord(coord_X,coord_Y):\n",
    "    transformer = Transformer.from_crs(\"epsg:4326\", \"epsg:32633\")\n",
    "    x,y = transformer.transform(coord_X,coord_Y)\n",
    "    return [x,y]"
   ]
  },
  {
   "cell_type": "code",
   "execution_count": 3,
   "metadata": {},
   "outputs": [],
   "source": [
    "#Inizializzo id number\n",
    "id_num=1"
   ]
  },
  {
   "cell_type": "markdown",
   "metadata": {},
   "source": [
    "_________ "
   ]
  },
  {
   "cell_type": "code",
   "execution_count": 4,
   "metadata": {},
   "outputs": [],
   "source": [
    "#Importo il file POI_lavoro.geojson\n",
    "with open('/Volumes/HDD/Università/Tirocinio/POI/POI_lavoro.geojson') as file:\n",
    "    gj_lavoro = json.load(file)"
   ]
  },
  {
   "cell_type": "code",
   "execution_count": null,
   "metadata": {},
   "outputs": [],
   "source": [
    "features=gj_lavoro['features']"
   ]
  },
  {
   "cell_type": "code",
   "execution_count": 6,
   "metadata": {},
   "outputs": [
    {
     "name": "stdout",
     "output_type": "stream",
     "text": [
      "POI_lavoro aggiornato - Numero POI: 2191\n"
     ]
    }
   ],
   "source": [
    "#Creazione struttura\n",
    "POI_lavoro=[]\n",
    "\n",
    "#Estrazione dati necessari da POI_lavoro.geojson\n",
    "for f in features:\n",
    "    POI={}\n",
    "    \n",
    "    #Assegno ID\n",
    "    POI['id']=id_num\n",
    "    id_num=id_num+1\n",
    "    \n",
    "    #Estraggo il nome\n",
    "    try:\n",
    "        POI['nome']=f['properties']['name']\n",
    "    except:\n",
    "        try:\n",
    "            POI['nome']=f['properties']['@relations'][0]['reltags'].get('name')\n",
    "        except:\n",
    "            POI['nome']=''\n",
    "            \n",
    "    #Estraggo tipologia\n",
    "    try:    \n",
    "        POI['tipo_edificio']=f['properties']['building']\n",
    "    except:\n",
    "        try:\n",
    "            POI['tipo_edificio']=f['properties']['@relations'][0]['reltags'].get('building')\n",
    "        except:\n",
    "            POI['tipo_edificio']=''\n",
    "    \n",
    "    #Ripopolo campo 'Nome' se vuoto\n",
    "    \n",
    "    if POI['nome']=='':\n",
    "        POI['nome']=POI['tipo_edificio'].capitalize()\n",
    "            \n",
    "    #Estraggo livelli edificio \n",
    "    try:    \n",
    "        POI['lvl_edificio']=f['properties']['building:levels']\n",
    "    except:\n",
    "        POI['lvl_edificio']='1'\n",
    "        \n",
    "    #Stima numero dipendenti\n",
    "    if POI['tipo_edificio']=='commercial':\n",
    "        POI['dipendenti']=15*int(POI['lvl_edificio'])\n",
    "    else:\n",
    "        POI['dipendenti']=10*int(POI['lvl_edificio'])\n",
    "        \n",
    "    #Estraggo coordinate\n",
    "    if f['geometry']['type']=='Point':\n",
    "        coord_X=f['geometry']['coordinates'][0]\n",
    "        coord_Y=f['geometry']['coordinates'][1]       \n",
    "    else:\n",
    "        if f['geometry']['type']=='LineString':\n",
    "            coord_X=f['geometry']['coordinates'][0][0]\n",
    "            coord_Y=f['geometry']['coordinates'][0][1]\n",
    "        else:\n",
    "            coord_X=f['geometry']['coordinates'][0][0][0]\n",
    "            coord_Y=f['geometry']['coordinates'][0][0][1]\n",
    "            \n",
    "    coord_new=trans_coord(coord_X,coord_Y)\n",
    "    POI['coord_X'],POI['coord_Y']=coord_new[0],coord_new[1]\n",
    "            \n",
    "    #Salvo il dict\n",
    "    POI_lavoro.append(POI)\n",
    "\n",
    "print('POI_lavoro aggiornato - Numero POI: '+str(len(POI_lavoro)))"
   ]
  },
  {
   "cell_type": "markdown",
   "metadata": {},
   "source": [
    "_____________________________"
   ]
  },
  {
   "cell_type": "code",
   "execution_count": 7,
   "metadata": {},
   "outputs": [],
   "source": [
    "#Importo il file POI_ristoro.geojson\n",
    "with open('/Volumes/HDD/Università/Tirocinio/POI/POI_ristoro.geojson') as file:\n",
    "    gj_ristoro = json.load(file)"
   ]
  },
  {
   "cell_type": "code",
   "execution_count": null,
   "metadata": {},
   "outputs": [],
   "source": [
    "features=gj_ristoro['features']"
   ]
  },
  {
   "cell_type": "code",
   "execution_count": 9,
   "metadata": {},
   "outputs": [],
   "source": [
    "#Funzione assegna dipendenti ristoro\n",
    "def num_dip_ristoro(tipo):\n",
    "    switcher={\n",
    "            'bar':3,\n",
    "            'restaurant':10,\n",
    "            'pub':5,\n",
    "            'fast_food':7\n",
    "         }\n",
    "    return switcher.get(tipo,\"errore\")"
   ]
  },
  {
   "cell_type": "code",
   "execution_count": 10,
   "metadata": {},
   "outputs": [
    {
     "name": "stdout",
     "output_type": "stream",
     "text": [
      "POI_ristoro aggiornato - Numero POI: 3227\n"
     ]
    }
   ],
   "source": [
    "#Creazione struttura\n",
    "POI_ristoro=[]\n",
    "\n",
    "#Estrazione dati necessari da POI_ristoro.geojson\n",
    "for f in features:\n",
    "    POI={}\n",
    "    \n",
    "    #Assegno ID\n",
    "    POI['id']=id_num\n",
    "    id_num=id_num+1\n",
    "    \n",
    "    #Estraggo il nome\n",
    "    try:\n",
    "        POI['nome']=f['properties']['name']\n",
    "    except:\n",
    "        try:\n",
    "            POI['nome']=f['properties']['@relations'][0]['reltags'].get('name')\n",
    "        except:\n",
    "            POI['nome']=''\n",
    "            \n",
    "    #Estraggo tipologia\n",
    "    try:    \n",
    "        POI['tipo_edificio']=f['properties']['amenity']\n",
    "    except:\n",
    "        try:\n",
    "            POI['tipo_edificio']=f['properties']['@relations'][0]['reltags'].get('amenity')\n",
    "        except:\n",
    "            POI['tipo_edificio']=''\n",
    "    \n",
    "    #Ripopolo campo 'Nome' se vuoto\n",
    "    if POI['nome']=='':\n",
    "        POI['nome']=POI['tipo_edificio'].capitalize()\n",
    "    \n",
    "    #Stima numero dipendenti\n",
    "    POI['dipendenti']=num_dip_ristoro(POI['tipo_edificio'])\n",
    "    \n",
    "    #Estraggo coordinate\n",
    "    if f['geometry']['type']=='Point':\n",
    "        coord_X=f['geometry']['coordinates'][0]\n",
    "        coord_Y=f['geometry']['coordinates'][1]       \n",
    "    else:\n",
    "        if f['geometry']['type']=='LineString':\n",
    "            coord_X=f['geometry']['coordinates'][0][0]\n",
    "            coord_Y=f['geometry']['coordinates'][0][1]\n",
    "        else:\n",
    "            coord_X=f['geometry']['coordinates'][0][0][0]\n",
    "            coord_Y=f['geometry']['coordinates'][0][0][1]\n",
    "            \n",
    "    coord_new=trans_coord(coord_X,coord_Y)\n",
    "    POI['coord_X'],POI['coord_Y']=coord_new[0],coord_new[1]    \n",
    "    \n",
    "    #Salvo il dict\n",
    "    POI_ristoro.append(POI)\n",
    "\n",
    "print('POI_ristoro aggiornato - Numero POI: '+str(len(POI_ristoro)))"
   ]
  },
  {
   "cell_type": "markdown",
   "metadata": {},
   "source": [
    "________"
   ]
  },
  {
   "cell_type": "code",
   "execution_count": 11,
   "metadata": {},
   "outputs": [],
   "source": [
    "#Importo il file POI_turismo.geojson\n",
    "with open('/Volumes/HDD/Università/Tirocinio/POI/POI_turismo.geojson') as file:\n",
    "    gj_turismo = json.load(file)"
   ]
  },
  {
   "cell_type": "code",
   "execution_count": null,
   "metadata": {},
   "outputs": [],
   "source": [
    "features=gj_turismo['features']"
   ]
  },
  {
   "cell_type": "code",
   "execution_count": 13,
   "metadata": {},
   "outputs": [],
   "source": [
    "#Funzione assegna dipendenti turismo\n",
    "def num_dip_turismo(tipo):\n",
    "    switcher={\n",
    "            'artwork':2,\n",
    "            'attraction':6,\n",
    "            'museum':10,\n",
    "            'park':5,\n",
    "            'monument':3\n",
    "         }\n",
    "    return switcher.get(tipo,\"errore\")"
   ]
  },
  {
   "cell_type": "code",
   "execution_count": 14,
   "metadata": {},
   "outputs": [
    {
     "name": "stdout",
     "output_type": "stream",
     "text": [
      "POI_turismo aggiornato - Numero POI: 834\n"
     ]
    }
   ],
   "source": [
    "#Creazione struttura\n",
    "POI_turismo=[]\n",
    "\n",
    "#Estrazione dati necessari da POI_turismo.geojson\n",
    "for f in features:\n",
    "    POI={}\n",
    "    \n",
    "    #Assegno ID\n",
    "    POI['id']=id_num\n",
    "    id_num=id_num+1\n",
    "    \n",
    "    #Estraggo il nome\n",
    "    try:\n",
    "        POI['nome']=f['properties']['name']\n",
    "    except:\n",
    "        try:\n",
    "            POI['nome']=f['properties']['@relations'][0]['reltags'].get('name')\n",
    "        except:\n",
    "            POI['nome']=''\n",
    "            \n",
    "    #Estraggo tipologia\n",
    "    try:    \n",
    "        POI['tipo_edificio']=f['properties']['tourism']\n",
    "    except:\n",
    "        try:\n",
    "            POI['tipo_edificio']=f['properties']['@relations'][0]['reltags'].get('leisure')\n",
    "        except:\n",
    "            try:\n",
    "                POI['tipo_edificio']=f['properties']['historic']\n",
    "            except:\n",
    "                try:\n",
    "                    POI['tipo_edificio']=f['properties']['leisure']\n",
    "                except:\n",
    "                    POI['tipo_edificio']=''\n",
    "    \n",
    "    #Ripopolo campo 'Nome' se vuoto\n",
    "    if POI['nome']=='':\n",
    "        POI['nome']=POI['tipo_edificio'].capitalize()\n",
    "    \n",
    "    #Stima numero dipendenti\n",
    "    POI['dipendenti']=num_dip_turismo(POI['tipo_edificio'])\n",
    "    \n",
    "    #Estraggo coordinate\n",
    "    if f['geometry']['type']=='Point':\n",
    "        coord_X=f['geometry']['coordinates'][0]\n",
    "        coord_Y=f['geometry']['coordinates'][1]       \n",
    "    else:\n",
    "        if f['geometry']['type']=='LineString':\n",
    "            coord_X=f['geometry']['coordinates'][0][0]\n",
    "            coord_Y=f['geometry']['coordinates'][0][1]\n",
    "        else:\n",
    "            coord_X=f['geometry']['coordinates'][0][0][0]\n",
    "            coord_Y=f['geometry']['coordinates'][0][0][1]\n",
    "            \n",
    "    coord_new=trans_coord(coord_X,coord_Y)\n",
    "    POI['coord_X'],POI['coord_Y']=coord_new[0],coord_new[1]    \n",
    "    \n",
    "    #Salvo il dict\n",
    "    \n",
    "    POI_turismo.append(POI)\n",
    "\n",
    "print('POI_turismo aggiornato - Numero POI: '+str(len(POI_turismo)))"
   ]
  },
  {
   "cell_type": "markdown",
   "metadata": {},
   "source": [
    "_______"
   ]
  },
  {
   "cell_type": "code",
   "execution_count": 15,
   "metadata": {},
   "outputs": [],
   "source": [
    "#Importo il file POI_spese.geojson\n",
    "with open('/Volumes/HDD/Università/Tirocinio/POI/POI_spese.geojson') as file:\n",
    "    gj_spese = json.load(file)"
   ]
  },
  {
   "cell_type": "code",
   "execution_count": 16,
   "metadata": {},
   "outputs": [],
   "source": [
    "features=gj_spese['features']"
   ]
  },
  {
   "cell_type": "code",
   "execution_count": 17,
   "metadata": {},
   "outputs": [],
   "source": [
    "#Funzione assegna dipendenti spese\n",
    "def num_dip_spese(tipo):\n",
    "    switcher={\n",
    "            'clothes':6,\n",
    "            'pharmacy':4,\n",
    "            'supermarket':10,\n",
    "            'tailor':4,\n",
    "            'tobacco':3\n",
    "         }\n",
    "    return switcher.get(tipo,\"errore\")"
   ]
  },
  {
   "cell_type": "code",
   "execution_count": 18,
   "metadata": {},
   "outputs": [
    {
     "name": "stdout",
     "output_type": "stream",
     "text": [
      "POI_spese aggiornato - Numero POI: 1727\n"
     ]
    }
   ],
   "source": [
    "#Creazione struttura\n",
    "POI_spese=[]\n",
    "\n",
    "#Estrazione dati necessari da POI_spese.geojson\n",
    "for f in features:\n",
    "    POI={}\n",
    "    \n",
    "    #Assegno ID\n",
    "    POI['id']=id_num\n",
    "    id_num=id_num+1\n",
    "    \n",
    "    #Estraggo il nome\n",
    "    try:\n",
    "        POI['nome']=f['properties']['name']\n",
    "    except:\n",
    "        try:\n",
    "            POI['nome']=f['properties']['@relations'][0]['reltags'].get('name')\n",
    "        except:\n",
    "            POI['nome']=''\n",
    "            \n",
    "    #Estraggo tipologia\n",
    "    try:    \n",
    "        POI['tipo_edificio']=f['properties']['shop']\n",
    "    except:\n",
    "        try:\n",
    "            POI['tipo_edificio']=f['properties']['amenity']\n",
    "        except:\n",
    "            POI['tipo_edificio']=''\n",
    "\n",
    "    #Ripopolo campo 'Nome' se vuoto\n",
    "    if POI['nome']=='':\n",
    "        POI['nome']=POI['tipo_edificio'].capitalize()\n",
    "    \n",
    "    #Stima numero dipendenti\n",
    "    POI['dipendenti']=num_dip_spese(POI['tipo_edificio'])\n",
    "    \n",
    "    #Estraggo coordinate\n",
    "    if f['geometry']['type']=='Point':\n",
    "        coord_X=f['geometry']['coordinates'][0]\n",
    "        coord_Y=f['geometry']['coordinates'][1]       \n",
    "    else:\n",
    "        if f['geometry']['type']=='LineString':\n",
    "            coord_X=f['geometry']['coordinates'][0][0]\n",
    "            coord_Y=f['geometry']['coordinates'][0][1]\n",
    "        else:\n",
    "            coord_X=f['geometry']['coordinates'][0][0][0]\n",
    "            coord_Y=f['geometry']['coordinates'][0][0][1]\n",
    "            \n",
    "    coord_new=trans_coord(coord_X,coord_Y)\n",
    "    POI['coord_X'],POI['coord_Y']=coord_new[0],coord_new[1]    \n",
    "    \n",
    "    #Salvo il dict\n",
    "    POI_spese.append(POI)\n",
    "\n",
    "print('POI_spese aggiornato - Numero POI: '+str(len(POI_spese)))"
   ]
  },
  {
   "cell_type": "markdown",
   "metadata": {},
   "source": [
    "_______"
   ]
  },
  {
   "cell_type": "code",
   "execution_count": 19,
   "metadata": {},
   "outputs": [],
   "source": [
    "#Importo il file POI_scuola.geojson\n",
    "with open('/Volumes/HDD/Università/Tirocinio/POI/POI_scuola.geojson') as file:\n",
    "    gj_scuola = json.load(file)"
   ]
  },
  {
   "cell_type": "code",
   "execution_count": 20,
   "metadata": {},
   "outputs": [],
   "source": [
    "features=gj_scuola['features']"
   ]
  },
  {
   "cell_type": "code",
   "execution_count": 21,
   "metadata": {},
   "outputs": [],
   "source": [
    "#Funzione assegna dipendenti scuola\n",
    "def num_dip_scuola(tipo):\n",
    "    switcher={\n",
    "            'library':6,\n",
    "            'school':20,\n",
    "            'university':40\n",
    "         }\n",
    "    return switcher.get(tipo,\"errore\")"
   ]
  },
  {
   "cell_type": "code",
   "execution_count": 22,
   "metadata": {},
   "outputs": [
    {
     "name": "stdout",
     "output_type": "stream",
     "text": [
      "POI_scuola aggiornato - Numero POI: 77\n"
     ]
    }
   ],
   "source": [
    "#Creazione struttura\n",
    "POI_scuola=[]\n",
    "\n",
    "#Estrazione dati necessari da POI_spese.geojson\n",
    "for f in features:\n",
    "    POI={}\n",
    "    \n",
    "    #Assegno ID\n",
    "    POI['id']=id_num\n",
    "    id_num=id_num+1\n",
    "    \n",
    "    #Estraggo il nome\n",
    "    try:\n",
    "        POI['nome']=f['properties']['name']\n",
    "    except:\n",
    "        try:\n",
    "            POI['nome']=f['properties']['@relations'][0]['reltags'].get('name')\n",
    "        except:\n",
    "            POI['nome']=''\n",
    "            \n",
    "    #Estraggo tipologia\n",
    "    try:    \n",
    "        POI['tipo_edificio']=f['properties']['amenity']\n",
    "    except:\n",
    "        POI['tipo_edificio']=''\n",
    "    \n",
    "    #Ripopolo campo 'Nome' se vuoto\n",
    "    if POI['nome']=='':\n",
    "        POI['nome']=POI['tipo_edificio'].capitalize()\n",
    "    \n",
    "    #Stima numero dipendenti\n",
    "    POI['dipendenti']=num_dip_scuola(POI['tipo_edificio'])\n",
    "    \n",
    "    #Estraggo coordinate\n",
    "    if f['geometry']['type']=='Point':\n",
    "        coord_X=f['geometry']['coordinates'][0]\n",
    "        coord_Y=f['geometry']['coordinates'][1]       \n",
    "    else:\n",
    "        if f['geometry']['type']=='LineString':\n",
    "            coord_X=f['geometry']['coordinates'][0][0]\n",
    "            coord_Y=f['geometry']['coordinates'][0][1]\n",
    "        else:\n",
    "            coord_X=f['geometry']['coordinates'][0][0][0]\n",
    "            coord_Y=f['geometry']['coordinates'][0][0][1]\n",
    "            \n",
    "    coord_new=trans_coord(coord_X,coord_Y)\n",
    "    POI['coord_X'],POI['coord_Y']=coord_new[0],coord_new[1]    \n",
    "    \n",
    "    #Salvo il dict\n",
    "    POI_scuola.append(POI)\n",
    "\n",
    "print('POI_scuola aggiornato - Numero POI: '+str(len(POI_scuola)))"
   ]
  },
  {
   "cell_type": "markdown",
   "metadata": {},
   "source": [
    "________"
   ]
  },
  {
   "cell_type": "code",
   "execution_count": 23,
   "metadata": {},
   "outputs": [],
   "source": [
    "#Trasformo dict in csv\n",
    "import csv\n",
    "\n",
    "with open('./csv_posti_lavoro.csv', 'w') as csv_file:\n",
    "    w = csv.DictWriter(csv_file, POI_lavoro[0].keys())\n",
    "    w.writeheader()\n",
    "    for r in POI_lavoro:\n",
    "        w.writerow(r)\n",
    "    for r in POI_ristoro:\n",
    "        w.writerow(r)\n",
    "    for r in POI_turismo:\n",
    "        w.writerow(r)\n",
    "    for r in POI_scuola:\n",
    "        w.writerow(r)\n",
    "    for r in POI_spese:\n",
    "        w.writerow(r)"
   ]
  },
  {
   "cell_type": "markdown",
   "metadata": {},
   "source": [
    "___________"
   ]
  },
  {
   "cell_type": "code",
   "execution_count": 29,
   "metadata": {},
   "outputs": [],
   "source": [
    "#Creo csv con capienza per ogni tipologia\n",
    "for p in POI_ristoro:\n",
    "    del p['dipendenti']\n",
    "\n",
    "for p in POI_scuola:\n",
    "    del p['dipendenti']\n",
    "\n",
    "for p in POI_spese:\n",
    "    del p['dipendenti']\n",
    "\n",
    "for p in POI_turismo:\n",
    "    del p['dipendenti']"
   ]
  },
  {
   "cell_type": "code",
   "execution_count": 33,
   "metadata": {},
   "outputs": [],
   "source": [
    "#Funzione assegna capienza ristoro\n",
    "def capienza_ristoro(tipo):\n",
    "    switcher={\n",
    "            'bar':20,\n",
    "            'restaurant':40,\n",
    "            'pub':30,\n",
    "            'fast_food':35\n",
    "         }\n",
    "    return switcher.get(tipo,\"errore\")"
   ]
  },
  {
   "cell_type": "code",
   "execution_count": 30,
   "metadata": {},
   "outputs": [],
   "source": [
    "#Funzione assegna capienza turismo\n",
    "def capienza_turismo(tipo):\n",
    "    switcher={\n",
    "            'artwork':20,\n",
    "            'attraction':50,\n",
    "            'museum':50,\n",
    "            'park':150,\n",
    "            'monument':40\n",
    "         }\n",
    "    return switcher.get(tipo,\"errore\")"
   ]
  },
  {
   "cell_type": "code",
   "execution_count": 31,
   "metadata": {},
   "outputs": [],
   "source": [
    "#Funzione assegna capienza spese\n",
    "def capienza_spese(tipo):\n",
    "    switcher={\n",
    "            'clothes':30,\n",
    "            'pharmacy':10,\n",
    "            'supermarket':50,\n",
    "            'tailor':15,\n",
    "            'tobacco':10\n",
    "         }\n",
    "    return switcher.get(tipo,\"errore\")"
   ]
  },
  {
   "cell_type": "code",
   "execution_count": 32,
   "metadata": {},
   "outputs": [],
   "source": [
    "#Funzione assegna capienza scuola\n",
    "def capienza_scuola(tipo):\n",
    "    switcher={\n",
    "            'library':60,\n",
    "            'school':200,\n",
    "            'university':350\n",
    "         }\n",
    "    return switcher.get(tipo,\"errore\")"
   ]
  },
  {
   "cell_type": "code",
   "execution_count": 34,
   "metadata": {},
   "outputs": [],
   "source": [
    "#Aggiorno POI\n",
    "for p in POI_ristoro:\n",
    "    p['capienza']=capienza_ristoro(p['tipo_edificio'])\n",
    "\n",
    "for p in POI_scuola:\n",
    "    p['capienza']=capienza_scuola(p['tipo_edificio'])\n",
    "\n",
    "for p in POI_spese:\n",
    "    p['capienza']=capienza_spese(p['tipo_edificio'])\n",
    "\n",
    "for p in POI_turismo:\n",
    "    p['capienza']=capienza_turismo(p['tipo_edificio'])"
   ]
  },
  {
   "cell_type": "code",
   "execution_count": 35,
   "metadata": {},
   "outputs": [],
   "source": [
    "#Salvo singoli csv\n",
    "with open('./csv_ristoro.csv', 'w') as csv_file:\n",
    "    w = csv.DictWriter(csv_file, POI_ristoro[0].keys())\n",
    "    w.writeheader()\n",
    "    for r in POI_ristoro:\n",
    "        w.writerow(r)\n",
    "with open('./csv_turismo.csv', 'w') as csv_file:\n",
    "    w = csv.DictWriter(csv_file, POI_turismo[0].keys())\n",
    "    w.writeheader()\n",
    "    for r in POI_turismo:\n",
    "        w.writerow(r)\n",
    "with open('./csv_scuola.csv', 'w') as csv_file:\n",
    "    w = csv.DictWriter(csv_file, POI_scuola[0].keys())\n",
    "    w.writeheader()\n",
    "    for r in POI_scuola:\n",
    "        w.writerow(r)\n",
    "with open('./csv_spese.csv', 'w') as csv_file:\n",
    "    w = csv.DictWriter(csv_file, POI_spese[0].keys())\n",
    "    w.writeheader()\n",
    "    for r in POI_spese:\n",
    "        w.writerow(r)"
   ]
  }
 ],
 "metadata": {
  "kernelspec": {
   "display_name": "Python 3",
   "language": "python",
   "name": "python3"
  },
  "language_info": {
   "codemirror_mode": {
    "name": "ipython",
    "version": 3
   },
   "file_extension": ".py",
   "mimetype": "text/x-python",
   "name": "python",
   "nbconvert_exporter": "python",
   "pygments_lexer": "ipython3",
   "version": "3.7.5"
  }
 },
 "nbformat": 4,
 "nbformat_minor": 4
}
