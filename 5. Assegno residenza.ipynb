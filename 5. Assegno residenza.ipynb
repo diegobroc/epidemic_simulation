{
 "cells": [
  {
   "cell_type": "code",
   "execution_count": 1,
   "metadata": {},
   "outputs": [],
   "source": [
    "import json\n",
    "import random\n",
    "import numpy as np\n",
    "from shapely.geometry import Polygon, Point"
   ]
  },
  {
   "cell_type": "code",
   "execution_count": 2,
   "metadata": {},
   "outputs": [],
   "source": [
    "with open('/Volumes/HDD/Università/Tirocinio/Dati censo/sezioni_censimento_2011.geojson') as file:\n",
    "    gj_sezioni = json.load(file)\n",
    "features_sezioni=gj_sezioni['features']"
   ]
  },
  {
   "cell_type": "code",
   "execution_count": 3,
   "metadata": {},
   "outputs": [],
   "source": [
    "with open('./json_agenti_fam.json') as json_file:\n",
    "    agenti = json.load(json_file)"
   ]
  },
  {
   "cell_type": "code",
   "execution_count": 4,
   "metadata": {},
   "outputs": [],
   "source": [
    "#Funzione per generare punto casuale in un poligono\n",
    "def random_point_within(poly):\n",
    "    min_x, min_y, max_x, max_y = poly.bounds\n",
    "    \n",
    "    while True:\n",
    "        random_point = Point([random.uniform(min_x, max_x), random.uniform(min_y, max_y)])\n",
    "        if (random_point.within(poly)):\n",
    "            return random_point"
   ]
  },
  {
   "cell_type": "code",
   "execution_count": 7,
   "metadata": {},
   "outputs": [],
   "source": [
    "#Assegno residenza alle famiglie\n",
    "famiglie=[None] * 50359\n",
    "for a in agenti:\n",
    "    sezione=list(filter(lambda s: s['properties']['SEZ'] == a['sez_residenza'],features_sezioni))\n",
    "    poly = Polygon(sezione[0]['geometry']['coordinates'][0])\n",
    "    point = random_point_within(poly)\n",
    "    famiglie[a['id_fam']]=point"
   ]
  },
  {
   "cell_type": "code",
   "execution_count": 8,
   "metadata": {},
   "outputs": [],
   "source": [
    "#Aggiorno agenti con coordinate residenza\n",
    "for a in agenti:\n",
    "    id=a['id_fam']\n",
    "    a['X_residenza']=famiglie[id].x\n",
    "    a['Y_residenza']=famiglie[id].y"
   ]
  },
  {
   "cell_type": "code",
   "execution_count": 9,
   "metadata": {},
   "outputs": [],
   "source": [
    "with open('./json_agenti_res.json', 'w') as fp:\n",
    "        json.dump(agenti, fp)"
   ]
  },
  {
   "cell_type": "code",
   "execution_count": null,
   "metadata": {},
   "outputs": [],
   "source": []
  }
 ],
 "metadata": {
  "kernelspec": {
   "display_name": "Python 3",
   "language": "python",
   "name": "python3"
  },
  "language_info": {
   "codemirror_mode": {
    "name": "ipython",
    "version": 3
   },
   "file_extension": ".py",
   "mimetype": "text/x-python",
   "name": "python",
   "nbconvert_exporter": "python",
   "pygments_lexer": "ipython3",
   "version": "3.7.5"
  }
 },
 "nbformat": 4,
 "nbformat_minor": 4
}
